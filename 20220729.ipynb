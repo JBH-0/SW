{
  "nbformat": 4,
  "nbformat_minor": 0,
  "metadata": {
    "colab": {
      "name": "20220729.ipynb",
      "provenance": [],
      "collapsed_sections": [],
      "authorship_tag": "ABX9TyOcucmHF76erzyt75G3qom0",
      "include_colab_link": true
    },
    "kernelspec": {
      "name": "python3",
      "display_name": "Python 3"
    },
    "language_info": {
      "name": "python"
    }
  },
  "cells": [
    {
      "cell_type": "markdown",
      "metadata": {
        "id": "view-in-github",
        "colab_type": "text"
      },
      "source": [
        "<a href=\"https://colab.research.google.com/github/JBH-0/SW/blob/main/20220729.ipynb\" target=\"_parent\"><img src=\"https://colab.research.google.com/assets/colab-badge.svg\" alt=\"Open In Colab\"/></a>"
      ]
    },
    {
      "cell_type": "markdown",
      "source": [
        "# UNIT 32.  람다 표현식 사용하기"
      ],
      "metadata": {
        "id": "jS65N-b9cZop"
      }
    },
    {
      "cell_type": "markdown",
      "source": [
        "람다 표현식에 조건부 표현식 사용하기(470p)"
      ],
      "metadata": {
        "id": "GupMxMnpcpkk"
      }
    },
    {
      "cell_type": "code",
      "execution_count": null,
      "metadata": {
        "colab": {
          "base_uri": "https://localhost:8080/"
        },
        "id": "ER4dKhoYatop",
        "outputId": "3bacb857-4608-45a9-abe6-ec1230b71763"
      },
      "outputs": [
        {
          "output_type": "stream",
          "name": "stdout",
          "text": [
            "[1, 2, '3', 4, 5, '6', 7, 8, '9', 10]\n"
          ]
        },
        {
          "output_type": "execute_result",
          "data": {
            "text/plain": [
              "[1, 2, '3', 4, 5, '6', 7, 8, '9', 10]"
            ]
          },
          "metadata": {},
          "execution_count": 11
        }
      ],
      "source": [
        "#함수\n",
        "a=[1,2,3,4,5,6,7,8,9,10]\n",
        "def change(x):\n",
        "  for i in range(len(x)):\n",
        "    if x[i]%3==0:\n",
        "      x[i]=str(x[i])\n",
        "    else:\n",
        "      continue\n",
        "  return x\n",
        "print(change(a))\n",
        "\n",
        "#람다\n",
        "a=[1,2,3,4,5,6,7,8,9,10]\n",
        "list(map(lambda x: str(x) if x%3==0 else x,a))"
      ]
    },
    {
      "cell_type": "markdown",
      "source": [
        "filter 사용하기(472p)"
      ],
      "metadata": {
        "id": "1ykviI6yetTV"
      }
    },
    {
      "cell_type": "code",
      "source": [
        "#함수\n",
        "def f(x):\n",
        "  return x>5 and x<10\n",
        "a=[8,3,2,10,15,7,1,9,0,11]\n",
        "list(filter(f,a))\n",
        "\n",
        "#filter없는 함수\n",
        "def ff(x):\n",
        "  a=list()\n",
        "  for i in range(len(x)):\n",
        "    if x[i]>5 and x[i]<10:\n",
        "      a.append(x[i])\n",
        "  return a\n",
        "a=[8,3,2,10,15,7,1,9,0,11]\n",
        "ff(a)\n",
        "#람다 \n",
        "a=[8,3,2,10,15,7,1,9,0,11]\n",
        "list(filter(lambda x:x>5 and x<10,a))"
      ],
      "metadata": {
        "colab": {
          "base_uri": "https://localhost:8080/"
        },
        "id": "LSxymbU5dVcs",
        "outputId": "d2da6693-95a0-4f10-c3f2-ea4cd2c9996f"
      },
      "execution_count": null,
      "outputs": [
        {
          "output_type": "execute_result",
          "data": {
            "text/plain": [
              "[8, 7, 9]"
            ]
          },
          "metadata": {},
          "execution_count": 27
        }
      ]
    },
    {
      "cell_type": "markdown",
      "source": [
        "reduce 사용하기(473p)"
      ],
      "metadata": {
        "id": "ZS4GbIoJl6j7"
      }
    },
    {
      "cell_type": "code",
      "source": [
        "#함수\n",
        "def f(x,y):\n",
        "  return x+y\n",
        "a=[1,2,3,4,5,6,7,8,9,10]\n",
        "from functools import reduce\n",
        "reduce(f,a)\n",
        "\n",
        "#람다\n",
        "a=[1,2,3,4,5,6,7,8,9,10]\n",
        "from functools import reduce\n",
        "reduce(lambda x,y:x+y,a)"
      ],
      "metadata": {
        "colab": {
          "base_uri": "https://localhost:8080/"
        },
        "id": "slVyOh7-l-Wz",
        "outputId": "0d8cca64-3d58-4daa-b753-00173077810d"
      },
      "execution_count": null,
      "outputs": [
        {
          "output_type": "execute_result",
          "data": {
            "text/plain": [
              "55"
            ]
          },
          "metadata": {},
          "execution_count": 28
        }
      ]
    },
    {
      "cell_type": "markdown",
      "source": [
        "# UNIT 33.  클로저 사용하기"
      ],
      "metadata": {
        "id": "xa6-s1fzqXCT"
      }
    },
    {
      "cell_type": "markdown",
      "source": [
        "함수 안에서 전역 변수 변경하기(479~480p)"
      ],
      "metadata": {
        "id": "J10owhPwqjj7"
      }
    },
    {
      "cell_type": "code",
      "source": [
        "x=10 #전역 변수\n",
        "def foo():\n",
        "  x=20 #x는 foo의 지역 변수\n",
        "  print(x) #foo의 지역 변수 출력\n",
        "\n",
        "foo()\n",
        "print(x) #전역 변수 출력"
      ],
      "metadata": {
        "colab": {
          "base_uri": "https://localhost:8080/"
        },
        "id": "7KkqJ-1gpf7K",
        "outputId": "75a0827a-d21a-4433-9727-8a3a3f00d9e5"
      },
      "execution_count": null,
      "outputs": [
        {
          "output_type": "stream",
          "name": "stdout",
          "text": [
            "20\n",
            "10\n"
          ]
        }
      ]
    },
    {
      "cell_type": "code",
      "source": [
        "x=10 #전역 변수\n",
        "def foo():\n",
        "  global x #전역 변수 x를 사용하겠다고 설정\n",
        "  x=20 #x는 전역 변수\n",
        "  print(x) #전역 변수 출력\n",
        "\n",
        "foo()\n",
        "print(x) #전역 변수 출력"
      ],
      "metadata": {
        "colab": {
          "base_uri": "https://localhost:8080/"
        },
        "id": "DLu7TCAPqi4K",
        "outputId": "3f94c8a6-b1d2-4f94-bcd2-e82fa95ccf13"
      },
      "execution_count": null,
      "outputs": [
        {
          "output_type": "stream",
          "name": "stdout",
          "text": [
            "20\n",
            "20\n"
          ]
        }
      ]
    },
    {
      "cell_type": "code",
      "source": [
        "#전역 변수 x가 없는 상태\n",
        "def foo():\n",
        "  global x #x를 전역 변수로 만듦\n",
        "  x=20 #x는 전역 변수\n",
        "  print(x) #전역 변수 출력\n",
        "\n",
        "foo()\n",
        "print(x) #전역 변수 출력"
      ],
      "metadata": {
        "colab": {
          "base_uri": "https://localhost:8080/"
        },
        "id": "p2TZQjCxqwFZ",
        "outputId": "fabb446e-96cd-4daf-b417-b4ab6fb970e2"
      },
      "execution_count": null,
      "outputs": [
        {
          "output_type": "stream",
          "name": "stdout",
          "text": [
            "20\n",
            "20\n"
          ]
        }
      ]
    },
    {
      "cell_type": "markdown",
      "source": [
        "함수 안에서 함수 만들기(481p)"
      ],
      "metadata": {
        "id": "Veoo9-pGrcQD"
      }
    },
    {
      "cell_type": "code",
      "source": [
        "#이너 클래스와 같은 개념\n",
        "#아우터 클래스의 필드를 쓰기 위해서 이너 클래스를 쓴다.\n",
        "def print_hello():\n",
        "  hello='Hello, world!'  #아우터 함수의 필드\n",
        "  def print_message():\n",
        "    print(hello)\n",
        "  print_message()\n",
        "print_hello()"
      ],
      "metadata": {
        "colab": {
          "base_uri": "https://localhost:8080/"
        },
        "id": "VSYd0pBSq4IZ",
        "outputId": "a0947450-30ec-4cc1-b907-601ba1dba551"
      },
      "execution_count": null,
      "outputs": [
        {
          "output_type": "stream",
          "name": "stdout",
          "text": [
            "Hello, world!\n"
          ]
        }
      ]
    },
    {
      "cell_type": "markdown",
      "source": [
        "클로저 사용하기(485~486p)"
      ],
      "metadata": {
        "id": "G3pZvbNKtyyr"
      }
    },
    {
      "cell_type": "code",
      "source": [
        "def calc():\n",
        "  a=3\n",
        "  b=5\n",
        "  def mul_add(x):\n",
        "    return a*x+b #함수 바깥쪽에 있는 지역 변수 a,b를 사용하여 계산\n",
        "  return mul_add #mul_add 함수를 반환\n",
        "#클로저: 함수를 둘러싼 환경(지역변수,코드 등)을 계속 유지하다가, 함수를 호출할 때 다시 꺼내서 사용하는 함수\n",
        "c=calc() #c에 mul_add 함수가 들어간다. 여기에 저장된 함수가 클로저이다.\n",
        "print(c(1),c(2),c(3),c(4),c(5))"
      ],
      "metadata": {
        "colab": {
          "base_uri": "https://localhost:8080/"
        },
        "id": "ZZn2sKfVrp8Z",
        "outputId": "d0425350-a9fc-47ea-9c6e-4c25b72426a4"
      },
      "execution_count": null,
      "outputs": [
        {
          "output_type": "stream",
          "name": "stdout",
          "text": [
            "8 11 14 17 20\n"
          ]
        }
      ]
    },
    {
      "cell_type": "code",
      "source": [
        "def calc():\n",
        "  a=3\n",
        "  b=5\n",
        "  def mul_add(x):\n",
        "    return a*x+b \n",
        "  def mul_min(x):\n",
        "    return a*x-b\n",
        "  return mul_add, mul_min\n",
        "\n",
        "c,d=calc() \n",
        "e=list(calc())\n",
        "print(e[0](1),e[1](1),e[0](2))\n",
        "print(c(1),c(2),c(3),c(4),c(5))\n",
        "print(d(1),d(2),d(3),d(4),d(5))"
      ],
      "metadata": {
        "colab": {
          "base_uri": "https://localhost:8080/"
        },
        "id": "G11YEW9LuAx6",
        "outputId": "72964494-3c68-4a10-84e9-2e5910bb098d"
      },
      "execution_count": null,
      "outputs": [
        {
          "output_type": "stream",
          "name": "stdout",
          "text": [
            "8 -2 11\n",
            "8 11 14 17 20\n",
            "-2 1 4 7 10\n"
          ]
        }
      ]
    },
    {
      "cell_type": "markdown",
      "source": [
        "# UNIT 34.  클래스 사용하기"
      ],
      "metadata": {
        "id": "o_wamJUrVwff"
      }
    },
    {
      "cell_type": "markdown",
      "source": [
        "인스턴스를 만들 때 값 받기(501p)"
      ],
      "metadata": {
        "id": "eQg6OIOvVzCg"
      }
    },
    {
      "cell_type": "code",
      "source": [
        "class Person:\n",
        "  def __init__(self,name,age,address):\n",
        "    self.hello='안녕하세요.'\n",
        "    self.name=name\n",
        "    self.age=age\n",
        "    self.address=address\n",
        "\n",
        "  def greeting(self):\n",
        "    print('{0} 저는 {1}입니다.'.format(self.hello, self.name))\n",
        "\n",
        "maria=Person('마리아',20,'서울시 서초구 반포동')\n",
        "maria.greeting() #안녕하세요. 저는 마리아입니다.\n",
        "\n",
        "print('이름:',maria.name)\n",
        "print('나이:',maria.age)\n",
        "print('주소:',maria.address)"
      ],
      "metadata": {
        "colab": {
          "base_uri": "https://localhost:8080/"
        },
        "id": "La7BsZ6Qvb26",
        "outputId": "b9e6e796-1d65-4ad5-c813-6c770e75aa48"
      },
      "execution_count": null,
      "outputs": [
        {
          "output_type": "stream",
          "name": "stdout",
          "text": [
            "안녕하세요. 저는 마리아입니다.\n",
            "이름: 마리아\n",
            "나이: 20\n",
            "주소: 서울시 서초구 반포동\n"
          ]
        }
      ]
    },
    {
      "cell_type": "markdown",
      "source": [
        "# UNIT 35.  클래스 속성과 정적 ,클래스 메서드 사용하기"
      ],
      "metadata": {
        "id": "QCigTljNYChH"
      }
    },
    {
      "cell_type": "markdown",
      "source": [
        "클래스 속성 사용하기(512p)"
      ],
      "metadata": {
        "id": "SijNmHy0YX6h"
      }
    },
    {
      "cell_type": "code",
      "source": [
        "class Person:\n",
        "  bag=[] #속성 \n",
        "  def put_bag(self,stuff): #메서드\n",
        "    self.bag.append(stuff)\n",
        "\n",
        "james=Person()\n",
        "james.put_bag('책')\n",
        "\n",
        "maria=Person()\n",
        "maria.put_bag('열쇠')\n",
        "\n",
        "print(james.bag)\n",
        "print(maria.bag)"
      ],
      "metadata": {
        "colab": {
          "base_uri": "https://localhost:8080/"
        },
        "id": "rfDE-my0Whdf",
        "outputId": "a18ac6d5-5134-48a9-8666-5e4fddad5315"
      },
      "execution_count": null,
      "outputs": [
        {
          "output_type": "stream",
          "name": "stdout",
          "text": [
            "['책', '열쇠']\n",
            "['책', '열쇠']\n"
          ]
        }
      ]
    },
    {
      "cell_type": "markdown",
      "source": [
        "인스턴스 속성 사용하기(514p)"
      ],
      "metadata": {
        "id": "vVU_zsfdZNEX"
      }
    },
    {
      "cell_type": "code",
      "source": [
        "class Person:\n",
        "   def __init__(self):\n",
        "     self.bag=[]\n",
        "   def put_bag(self,stuff): \n",
        "    self.bag.append(stuff)\n",
        "\n",
        "james=Person()\n",
        "james.put_bag('책')\n",
        "\n",
        "maria=Person()\n",
        "maria.put_bag('열쇠')\n",
        "\n",
        "print(james.bag)\n",
        "print(maria.bag)"
      ],
      "metadata": {
        "colab": {
          "base_uri": "https://localhost:8080/"
        },
        "id": "N5FYdTO7YU2f",
        "outputId": "ebadca2c-c12a-413f-a0de-fa3f6f2095e9"
      },
      "execution_count": null,
      "outputs": [
        {
          "output_type": "stream",
          "name": "stdout",
          "text": [
            "['책']\n",
            "['열쇠']\n"
          ]
        }
      ]
    },
    {
      "cell_type": "markdown",
      "source": [
        "비공개 클래스 속성 사용하기(515p)"
      ],
      "metadata": {
        "id": "WFoAETAOdF3u"
      }
    },
    {
      "cell_type": "code",
      "source": [
        "class Knight:\n",
        "  __item_limit=10 #비공개 클래스 속성\n",
        "\n",
        "  def print_item_limit(self):\n",
        "    print(Knight.__item_limit) #클래스 안에서만 접근할 수 있음\n",
        "\n",
        "x=Knight()\n",
        "x.print_item_limit()"
      ],
      "metadata": {
        "colab": {
          "base_uri": "https://localhost:8080/"
        },
        "id": "CDKpgU89dIve",
        "outputId": "6a5d4bc4-26d1-46a7-aa9a-04a7bd83c0f0"
      },
      "execution_count": null,
      "outputs": [
        {
          "output_type": "stream",
          "name": "stdout",
          "text": [
            "10\n"
          ]
        }
      ]
    },
    {
      "cell_type": "markdown",
      "source": [
        "정적 메서드 사용하기(516p)"
      ],
      "metadata": {
        "id": "37y8yUHfcFhV"
      }
    },
    {
      "cell_type": "code",
      "source": [
        "class Calc:\n",
        "  @staticmethod\n",
        "  def add(a,b):\n",
        "    print(a+b)\n",
        "  @staticmethod\n",
        "  def mul(a,b):\n",
        "    print(a*b)\n",
        "\n",
        "#클래스에서 바로 메서드 호출\n",
        "Calc.add(10,20) \n",
        "Calc.mul(10,20) "
      ],
      "metadata": {
        "colab": {
          "base_uri": "https://localhost:8080/"
        },
        "id": "x-Dcvy5icIQ8",
        "outputId": "55e07ab7-1adf-4c90-8bbd-a214174c03c7"
      },
      "execution_count": null,
      "outputs": [
        {
          "output_type": "stream",
          "name": "stdout",
          "text": [
            "30\n",
            "200\n"
          ]
        }
      ]
    },
    {
      "cell_type": "markdown",
      "source": [
        "클래스 메서드 사용하기(518p)"
      ],
      "metadata": {
        "id": "Fe2y-QXZcCb4"
      }
    },
    {
      "cell_type": "code",
      "source": [
        "class Person:\n",
        "  count=0 #클래스 속성\n",
        "  def __init__(self):\n",
        "    Person.count+=1 #인스턴스가 만들어질 때, 클래스 속성 count에 1을 더함\n",
        "  @classmethod\n",
        "  def print_count(cls): \n",
        "    print('{0}명 생성되었습니다.'.format(cls.count)) #cls로 클래스 속성에 접근\n",
        "\n",
        "james=Person()\n",
        "maria=Person()\n",
        "\n",
        "Person.print_count()"
      ],
      "metadata": {
        "colab": {
          "base_uri": "https://localhost:8080/"
        },
        "id": "yDHuWCaYaLNl",
        "outputId": "2def5ec3-4008-4cdc-8efe-f96ce420ad96"
      },
      "execution_count": null,
      "outputs": [
        {
          "output_type": "stream",
          "name": "stdout",
          "text": [
            "2명 생성되었습니다.\n"
          ]
        }
      ]
    },
    {
      "cell_type": "code",
      "source": [
        ""
      ],
      "metadata": {
        "id": "iz7OfcOjbixe"
      },
      "execution_count": null,
      "outputs": []
    }
  ]
}