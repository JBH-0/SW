{
  "nbformat": 4,
  "nbformat_minor": 0,
  "metadata": {
    "colab": {
      "name": "StudentManageClass.ipynb",
      "provenance": [],
      "collapsed_sections": [],
      "authorship_tag": "ABX9TyPNn3cW9zUB/5uId3/E8dgz",
      "include_colab_link": true
    },
    "kernelspec": {
      "name": "python3",
      "display_name": "Python 3"
    },
    "language_info": {
      "name": "python"
    }
  },
  "cells": [
    {
      "cell_type": "markdown",
      "metadata": {
        "id": "view-in-github",
        "colab_type": "text"
      },
      "source": [
        "<a href=\"https://colab.research.google.com/github/JBH-0/SW/blob/main/StudentManageClass.ipynb\" target=\"_parent\"><img src=\"https://colab.research.google.com/assets/colab-badge.svg\" alt=\"Open In Colab\"/></a>"
      ]
    },
    {
      "cell_type": "markdown",
      "source": [
        "#학생 성적 관리 프로그램(파이썬)-클래스"
      ],
      "metadata": {
        "id": "fUOyxkCAvlRZ"
      }
    },
    {
      "cell_type": "code",
      "execution_count": 29,
      "metadata": {
        "id": "RCAObB2MtG8U"
      },
      "outputs": [],
      "source": [
        "import pickle\n",
        "class Student: #학생 성적 데이터 클래스\n",
        "  #생성자\n",
        "  def __init__(self):\n",
        "    self.newDic=dict() #속성\n",
        "\n",
        "  def put_newDic(self,num,numInfo):\n",
        "    self.newDic.setdefault(num,numInfo)\n",
        "  \n",
        "  #마지막에 파일 쓰는 메소드\n",
        "  def write(self):\n",
        "    with open('student.p','wb') as file: #student.p 파일을 바이너리 쓰기 모드(wb)로 열기\n",
        "      pickle.dump(self.newDic,file)\n",
        "\n",
        "  #처음에 파일 읽어오는 메소드\n",
        "  def read(self): \n",
        "    with open('student.p','rb') as file: #student.p 파일을 바이너리 읽기 모드(rb)로 열기\n",
        "      data=pickle.load(file)\n",
        "    for key1,value1 in data.items():\n",
        "      stInfoK={key:value for key,value in value1.items()}\n",
        "      self.put_newDic(key1,stInfoK)"
      ]
    },
    {
      "cell_type": "code",
      "source": [
        "class StudentMan: #학생 성적 관리 기능 클래스\n",
        "  \n",
        "  #생성자\n",
        "  def __init__(self):\n",
        "    self.st=Student() #학생 성적 데이터 클래스를 사용하기 위한 인스턴스 생성\n",
        "    \n",
        "  #입력 메소드\n",
        "  def get(self):\n",
        "    check=True #지역 변수 check\n",
        "    while(check):\n",
        "      num=input(\"학번: \") #지역 변수 num\n",
        "      if num in self.st.newDic: #인스턴스 속성인 newDic 사용\n",
        "        print('겹치는 학번이 있습니다.')\n",
        "        continue\n",
        "      else:\n",
        "        check=False\n",
        "    name=input(\"이름: \") #지역 변수 name\n",
        "    kor=int(input(\"국어 점수: \")) #지역 변수 kor\n",
        "    eng=int(input(\"영어 점수: \")) #지역 변수 eng\n",
        "    mat=int(input(\"수학 점수: \")) #지역 변수 mat\n",
        "    avg=round((kor+eng+mat)/3,2) #지역 변수 avg\n",
        "\n",
        "    stDic={'이름':name, '국어':kor, '영어':eng, '수학':mat,'평균':avg} #학생 정보 딕셔너리\n",
        "    self.st.put_newDic(num,stDic) #학번을 key, 학생 정보 딕셔너리를 value를 학생 성적 데이터 클래스의 생성자로 속성에 접근\n",
        "\n",
        "  #출력 메소드\n",
        "  def output(self):\n",
        "    #학생 성적 데이터 클래스의 생성자로 속성, newDic에 접근\n",
        "    if bool(self.st.newDic)==False: #데이터가 없을 경우\n",
        "      print('데이터가 없습니다.')\n",
        "    else: #데이터가 있으면 값을 출력\n",
        "      for key1,value1 in self.st.newDic.items():\n",
        "        print('학번 :',key1,end='  ')\n",
        "        stInfoK={key:value for key,value in value1.items()} #학생 정보 딕셔너리\n",
        "        for key2,value2 in stInfoK.items():\n",
        "          print(key2,':',value2,end='  ')\n",
        "        print()\n",
        "\n",
        "  #검색 메소드\n",
        "  def search(self):\n",
        "    #학생 성적 데이터 클래스의 생성자로 속성, newDic에 접근\n",
        "    if bool(self.st.newDic)==False: #데이터가 없을 경우\n",
        "      print('데이터가 없습니다.')\n",
        "    else: #데이터가 있으면 검색할 수 있음\n",
        "      serData=input('검색하고 싶은 학번 입력: ')\n",
        "      for key1,value1 in self.st.newDic.items():\n",
        "        if key1==serData: #일치하는 학번이 있으면 정보 출력\n",
        "          print('학번 :',key1,end='  ')\n",
        "          stInfoK={key:value for key,value in value1.items()} #학생 정보 딕셔너리\n",
        "          for key2,value2 in stInfoK.items():\n",
        "            print(key2,':',value2,end='  ')\n",
        "          print()\n",
        "\n",
        "  #삭제 메소드\n",
        "  def delete(self):\n",
        "    #학생 성적 데이터 클래스의 생성자로 속성, newDic에 접근\n",
        "    if bool(self.st.newDic)==False: #데이터가 없을 경우\n",
        "      print('데이터가 없습니다.')\n",
        "    else: #데이터가 있으면 삭제할 수 있음\n",
        "      delData=input('삭제하고 싶은 학번 입력: ')\n",
        "      if delData in self.st.newDic: #일치하는 학번이 있으면 삭제\n",
        "        print('삭제 완료했습니다')\n",
        "        self.st.newDic.pop(delData)\n",
        "      else:\n",
        "        print('존재하지 않은 학번입니다.')\n",
        "  \n",
        "  #수정 메소드\n",
        "  def modify(self):\n",
        "    #학생 성적 데이터 클래스의 생성자로 속성, newDic에 접근\n",
        "    if bool(self.st.newDic)==False: #데이터가 없을 경우\n",
        "      print('데이터가 없습니다.')\n",
        "    else: #데이터가 있으면 수정할 수 있음\n",
        "      modiNum=input('수정하고 싶은 학번 입력: ')\n",
        "      if modiNum not in self.st.newDic:\n",
        "          print('존재하지 않은 학번입니다.')\n",
        "      else:\n",
        "        #학생 성적 데이터 클래스의 생성자로 속성, newDic에 접근\n",
        "        for key1,value1 in self.st.newDic.items():\n",
        "          if key1==modiNum: #존재하는 학번이면\n",
        "            print('학번 :',key1) #학번 출력 \n",
        "            print('1. 이름 2. 국어 3. 영어 4. 수학')\n",
        "            whatModi=int(input('수정하고 싶은 정보의 번호 입력: ')) \n",
        "            stInfoK={key:value for key,value in value1.items()} #학생 정보 딕셔너리\n",
        "            for key2,value2 in stInfoK.items():\n",
        "              #수정하고 싶은 정보의 번호와 일치하는 거에 맞는 기능 수행\n",
        "              if whatModi==1 and key2=='이름':\n",
        "                modiCon=input('수정할 정보를 입력: ')\n",
        "                self.st.newDic[key1]['이름']=modiCon\n",
        "              elif whatModi==2 and key2=='국어':\n",
        "                modiCon=int(input('수정할 정보를 입력: '))\n",
        "                self.st.newDic[key1]['국어']=modiCon\n",
        "                self.st.newDic[key1]['평균']=round((self.st.newDic[key1]['국어']+self.st.newDic[key1]['영어']+self.st.newDic[key1]['수학'])/3,2)\n",
        "              elif whatModi==3 and key2=='영어':\n",
        "                modiCon=int(input('수정할 정보를 입력: '))\n",
        "                self.st.newDic[key1]['영어']=modiCon\n",
        "                self.st.newDic[key1]['평균']=round((self.st.newDic[key1]['국어']+self.st.newDic[key1]['영어']+self.st.newDic[key1]['수학'])/3,2)\n",
        "              elif whatModi==4 and key2=='수학':\n",
        "                modiCon=int(input('수정할 정보를 입력: '))\n",
        "                self.st.newDic[key1]['수학']=modiCon\n",
        "                self.st.newDic[key1]['평균']=round((self.st.newDic[key1]['국어']+self.st.newDic[key1]['영어']+self.st.newDic[key1]['수학'])/3,2)\n",
        "              elif whatModi<1 and whatModi>4:\n",
        "                print('번호를 잘못 입력했습니다.')\n",
        "\n",
        "  #main 메소드\n",
        "  def main(self):\n",
        "    print('1. 입력 2. 출력 3. 검색 4. 삭제 5. 수정 6. 종료')\n",
        "    num=int(input())\n",
        "    if num==1:\n",
        "      print('<<<입력>>>')\n",
        "      self.get()\n",
        "    elif num==2:\n",
        "      print('<<<출력>>>')\n",
        "      self.output()\n",
        "    elif num==3:\n",
        "      print('<<<검색>>>')\n",
        "      self.search()\n",
        "    elif num==4:\n",
        "      print('<<<삭제>>>')\n",
        "      self.delete()\n",
        "    elif num==5:\n",
        "      print('<<<수정>>>')\n",
        "      self.modify()\n",
        "    elif num==6:\n",
        "      print('종료하겠습니다.')\n",
        "      self.st.write()\n",
        "      return False\n",
        "    else:\n",
        "      print('숫자를 다시 입력하세요')"
      ],
      "metadata": {
        "id": "YlsSbX-WHmwd"
      },
      "execution_count": 30,
      "outputs": []
    },
    {
      "cell_type": "code",
      "source": [
        "import os\n",
        "func=StudentMan()\n",
        "st=Student()\n",
        "if os.path.isfile(\"student.p\"): #파일이 존재하고\n",
        "  if os.stat(\"student.p\").st_size != 0: #파일에 내용이 있으면 \n",
        "    st.read() #파일 내용을 읽는 함수 호출\n",
        "    \n",
        "check=True\n",
        "while(check):\n",
        "  che=func.main()\n",
        "  if che==False:\n",
        "    check=False"
      ],
      "metadata": {
        "colab": {
          "base_uri": "https://localhost:8080/"
        },
        "id": "83RGGw2OGU4K",
        "outputId": "c6c3cf7f-fda7-4c37-8a6f-79465c17135d"
      },
      "execution_count": 33,
      "outputs": [
        {
          "output_type": "stream",
          "name": "stdout",
          "text": [
            "1. 입력 2. 출력 3. 검색 4. 삭제 5. 수정 6. 종료\n",
            "2\n",
            "<<<출력>>>\n",
            "데이터가 없습니다.\n",
            "1. 입력 2. 출력 3. 검색 4. 삭제 5. 수정 6. 종료\n",
            "6\n",
            "종료하겠습니다.\n"
          ]
        }
      ]
    },
    {
      "cell_type": "code",
      "source": [
        ""
      ],
      "metadata": {
        "id": "udPch-8mYE0h"
      },
      "execution_count": 31,
      "outputs": []
    }
  ]
}